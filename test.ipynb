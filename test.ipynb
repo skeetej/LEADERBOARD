{
 "cells": [
  {
   "cell_type": "code",
   "execution_count": 5,
   "id": "initial_id",
   "metadata": {
    "collapsed": true,
    "ExecuteTime": {
     "end_time": "2024-11-03T19:11:29.426224800Z",
     "start_time": "2024-11-03T19:11:27.360523300Z"
    }
   },
   "outputs": [],
   "source": [
    "import pandas as pd\n",
    "\n",
    "df = pd.read_csv('paper-trading-account-history-2024-11-03T18_53_39.305Z.csv')"
   ]
  },
  {
   "cell_type": "code",
   "execution_count": 12,
   "outputs": [
    {
     "name": "stdout",
     "output_type": "stream",
     "text": [
      "2024-07-22 02:01:47\n"
     ]
    }
   ],
   "source": [
    "# print(df.iloc[0, 0])"
   ],
   "metadata": {
    "collapsed": false,
    "ExecuteTime": {
     "end_time": "2024-11-03T19:25:01.309458300Z",
     "start_time": "2024-11-03T19:25:01.295457800Z"
    }
   },
   "id": "a553177e0db2e0a2"
  },
  {
   "cell_type": "code",
   "execution_count": 13,
   "outputs": [
    {
     "data": {
      "text/plain": "                  Time  Balance Before  Balance After  Realized P&L (value)  \\\n0  2024-07-22 02:01:47    18136.713320   17285.534374           -851.178946   \n1  2024-07-18 10:35:48    18374.213320   18136.713320           -237.500000   \n2  2024-07-18 10:08:27    18375.463320   18374.213320             -1.250000   \n3  2024-05-09 10:14:12    18807.383320   18375.463320           -431.920000   \n4  2024-05-06 14:42:23    18782.423320   18807.383320             24.960000   \n5  2023-07-20 03:07:49    19192.526029   18782.423320           -410.102709   \n6  2023-07-04 02:26:30    19582.285286   19192.526029           -389.759257   \n7  2023-07-04 01:10:59    19603.195324   19582.285286            -20.910038   \n8  2023-06-09 02:20:28    19864.376118   19603.195324           -261.180795   \n9  2023-06-09 01:59:46    20000.000000   19864.376118           -135.623882   \n\n  Realized P&L (currency)                                             Action  \n0                     USD  Close long position for symbol FX:GBPJPY at pr...  \n1                     USD  Close long position for symbol CME_MINI:MES1! ...  \n2                     USD  Close long position for symbol CME_MINI:MES1! ...  \n3                     USD  Close short position for symbol TVC:GOLD at pr...  \n4                     USD  Close short position for symbol TVC:GOLD at pr...  \n5                     USD  Close long position for symbol FX:GBPJPY at pr...  \n6                     USD  Close short position for symbol FX:GBPJPY at p...  \n7                     USD  Close short position for symbol FX:GBPJPY at p...  \n8                     USD  Close short position for symbol FX:GBPJPY at p...  \n9                     USD  Close long position for symbol FX:GBPJPY at pr...  ",
      "text/html": "<div>\n<style scoped>\n    .dataframe tbody tr th:only-of-type {\n        vertical-align: middle;\n    }\n\n    .dataframe tbody tr th {\n        vertical-align: top;\n    }\n\n    .dataframe thead th {\n        text-align: right;\n    }\n</style>\n<table border=\"1\" class=\"dataframe\">\n  <thead>\n    <tr style=\"text-align: right;\">\n      <th></th>\n      <th>Time</th>\n      <th>Balance Before</th>\n      <th>Balance After</th>\n      <th>Realized P&amp;L (value)</th>\n      <th>Realized P&amp;L (currency)</th>\n      <th>Action</th>\n    </tr>\n  </thead>\n  <tbody>\n    <tr>\n      <th>0</th>\n      <td>2024-07-22 02:01:47</td>\n      <td>18136.713320</td>\n      <td>17285.534374</td>\n      <td>-851.178946</td>\n      <td>USD</td>\n      <td>Close long position for symbol FX:GBPJPY at pr...</td>\n    </tr>\n    <tr>\n      <th>1</th>\n      <td>2024-07-18 10:35:48</td>\n      <td>18374.213320</td>\n      <td>18136.713320</td>\n      <td>-237.500000</td>\n      <td>USD</td>\n      <td>Close long position for symbol CME_MINI:MES1! ...</td>\n    </tr>\n    <tr>\n      <th>2</th>\n      <td>2024-07-18 10:08:27</td>\n      <td>18375.463320</td>\n      <td>18374.213320</td>\n      <td>-1.250000</td>\n      <td>USD</td>\n      <td>Close long position for symbol CME_MINI:MES1! ...</td>\n    </tr>\n    <tr>\n      <th>3</th>\n      <td>2024-05-09 10:14:12</td>\n      <td>18807.383320</td>\n      <td>18375.463320</td>\n      <td>-431.920000</td>\n      <td>USD</td>\n      <td>Close short position for symbol TVC:GOLD at pr...</td>\n    </tr>\n    <tr>\n      <th>4</th>\n      <td>2024-05-06 14:42:23</td>\n      <td>18782.423320</td>\n      <td>18807.383320</td>\n      <td>24.960000</td>\n      <td>USD</td>\n      <td>Close short position for symbol TVC:GOLD at pr...</td>\n    </tr>\n    <tr>\n      <th>5</th>\n      <td>2023-07-20 03:07:49</td>\n      <td>19192.526029</td>\n      <td>18782.423320</td>\n      <td>-410.102709</td>\n      <td>USD</td>\n      <td>Close long position for symbol FX:GBPJPY at pr...</td>\n    </tr>\n    <tr>\n      <th>6</th>\n      <td>2023-07-04 02:26:30</td>\n      <td>19582.285286</td>\n      <td>19192.526029</td>\n      <td>-389.759257</td>\n      <td>USD</td>\n      <td>Close short position for symbol FX:GBPJPY at p...</td>\n    </tr>\n    <tr>\n      <th>7</th>\n      <td>2023-07-04 01:10:59</td>\n      <td>19603.195324</td>\n      <td>19582.285286</td>\n      <td>-20.910038</td>\n      <td>USD</td>\n      <td>Close short position for symbol FX:GBPJPY at p...</td>\n    </tr>\n    <tr>\n      <th>8</th>\n      <td>2023-06-09 02:20:28</td>\n      <td>19864.376118</td>\n      <td>19603.195324</td>\n      <td>-261.180795</td>\n      <td>USD</td>\n      <td>Close short position for symbol FX:GBPJPY at p...</td>\n    </tr>\n    <tr>\n      <th>9</th>\n      <td>2023-06-09 01:59:46</td>\n      <td>20000.000000</td>\n      <td>19864.376118</td>\n      <td>-135.623882</td>\n      <td>USD</td>\n      <td>Close long position for symbol FX:GBPJPY at pr...</td>\n    </tr>\n  </tbody>\n</table>\n</div>"
     },
     "execution_count": 13,
     "metadata": {},
     "output_type": "execute_result"
    }
   ],
   "source": [
    "df"
   ],
   "metadata": {
    "collapsed": false,
    "ExecuteTime": {
     "end_time": "2024-11-03T19:29:28.184772500Z",
     "start_time": "2024-11-03T19:29:28.164235300Z"
    }
   },
   "id": "9c3914883e91ff97"
  },
  {
   "cell_type": "code",
   "execution_count": 15,
   "outputs": [
    {
     "name": "stdout",
     "output_type": "stream",
     "text": [
      "18136.713320071267\n",
      "17285.534374047245\n"
     ]
    }
   ],
   "source": [
    "balance_before = df.iloc[0,1]\n",
    "balance_after = df.iloc[0,2]\n",
    "\n",
    "print(balance_before)\n",
    "print(balance_after)\n",
    "\n"
   ],
   "metadata": {
    "collapsed": false,
    "ExecuteTime": {
     "end_time": "2024-11-03T19:33:40.849830300Z",
     "start_time": "2024-11-03T19:33:40.837829400Z"
    }
   },
   "id": "f926544d3a66aeab"
  },
  {
   "cell_type": "code",
   "execution_count": 17,
   "outputs": [
    {
     "name": "stdout",
     "output_type": "stream",
     "text": [
      "yay\n"
     ]
    }
   ],
   "source": [
    "x = 1\n",
    "\n",
    "match x:\n",
    "    case 1: print(\"yay\")\n",
    "    case _: print(\"no\")"
   ],
   "metadata": {
    "collapsed": false,
    "ExecuteTime": {
     "end_time": "2024-11-03T20:29:41.130974Z",
     "start_time": "2024-11-03T20:29:41.119976900Z"
    }
   },
   "id": "ab57a20bfd179b72"
  },
  {
   "cell_type": "code",
   "execution_count": 28,
   "outputs": [
    {
     "name": "stdout",
     "output_type": "stream",
     "text": [
      "[np.float64(17285.534374047245)]\n",
      " RANK          TEAM NAME      BALANCE\n",
      "    1 SAHAJDROPPSHIPPERS 17285.534374\n"
     ]
    }
   ],
   "source": [
    "import pandas as pd\n",
    "import streamlit as st\n",
    "\n",
    "df = pd.read_csv('paper-trading-account-history-2024-11-03T18_53_39.305Z.csv')\n",
    "leaderboard_df = None\n",
    "leaderboard_csv = None\n",
    "team_name = ['SAHAJDROPPSHIPPERS']\n",
    "rank = [1]\n",
    "balance_before = df.iloc[0,1]\n",
    "balance_after = df.iloc[0,2]\n",
    "\n",
    "current_balance = []\n",
    "\n",
    "if balance_after is None or balance_after == 'N/A':\n",
    "    current_balance.append(balance_before)\n",
    "elif balance_before == balance_after:\n",
    "    current_balance.append(balance_before)\n",
    "else:\n",
    "    current_balance.append(balance_after)\n",
    "\n",
    "\n",
    "print(current_balance)\n",
    "\n",
    "leaderboard_df = pd.DataFrame({'RANK': rank, 'TEAM NAME': team_name, 'BALANCE': current_balance})\n",
    "leaderboard_df = leaderboard_df.reset_index()\n",
    "leaderboard_df = leaderboard_df.drop('index', axis=1)\n",
    "\n",
    "print(leaderboard_df)\n",
    "# st.title('SD CAPITAL LEADERBOARD')\n",
    "# st.write(leaderboard_df, hide_index= True)"
   ],
   "metadata": {
    "collapsed": false,
    "ExecuteTime": {
     "end_time": "2024-11-03T20:36:26.180310500Z",
     "start_time": "2024-11-03T20:36:26.158296900Z"
    }
   },
   "id": "22674ee87dbca03b"
  }
 ],
 "metadata": {
  "kernelspec": {
   "display_name": "Python 3",
   "language": "python",
   "name": "python3"
  },
  "language_info": {
   "codemirror_mode": {
    "name": "ipython",
    "version": 2
   },
   "file_extension": ".py",
   "mimetype": "text/x-python",
   "name": "python",
   "nbconvert_exporter": "python",
   "pygments_lexer": "ipython2",
   "version": "2.7.6"
  }
 },
 "nbformat": 4,
 "nbformat_minor": 5
}
